{
  "nbformat": 4,
  "nbformat_minor": 0,
  "metadata": {
    "colab": {
      "provenance": [],
      "collapsed_sections": [
        "66RN_6VDLsDO",
        "mZoLRx7L6SMb",
        "xEaabviIt-DH"
      ]
    },
    "kernelspec": {
      "name": "python3",
      "display_name": "Python 3"
    },
    "language_info": {
      "name": "python"
    }
  },
  "cells": [
    {
      "cell_type": "markdown",
      "source": [
        "# Mini LLM Project in Cybersecurity"
      ],
      "metadata": {
        "id": "pGfZ8OUjLT7j"
      }
    },
    {
      "cell_type": "markdown",
      "source": [
        "## Prerequisites"
      ],
      "metadata": {
        "id": "66RN_6VDLsDO"
      }
    },
    {
      "cell_type": "code",
      "source": [
        "!pip install openai"
      ],
      "metadata": {
        "colab": {
          "base_uri": "https://localhost:8080/"
        },
        "id": "LfkYRYpcLb9R",
        "outputId": "378c4e06-e0df-44ba-b186-978fb58ff89a"
      },
      "execution_count": 1,
      "outputs": [
        {
          "output_type": "stream",
          "name": "stdout",
          "text": [
            "Requirement already satisfied: openai in /usr/local/lib/python3.11/dist-packages (1.61.1)\n",
            "Requirement already satisfied: anyio<5,>=3.5.0 in /usr/local/lib/python3.11/dist-packages (from openai) (3.7.1)\n",
            "Requirement already satisfied: distro<2,>=1.7.0 in /usr/local/lib/python3.11/dist-packages (from openai) (1.9.0)\n",
            "Requirement already satisfied: httpx<1,>=0.23.0 in /usr/local/lib/python3.11/dist-packages (from openai) (0.28.1)\n",
            "Requirement already satisfied: jiter<1,>=0.4.0 in /usr/local/lib/python3.11/dist-packages (from openai) (0.9.0)\n",
            "Requirement already satisfied: pydantic<3,>=1.9.0 in /usr/local/lib/python3.11/dist-packages (from openai) (2.10.6)\n",
            "Requirement already satisfied: sniffio in /usr/local/lib/python3.11/dist-packages (from openai) (1.3.1)\n",
            "Requirement already satisfied: tqdm>4 in /usr/local/lib/python3.11/dist-packages (from openai) (4.67.1)\n",
            "Requirement already satisfied: typing-extensions<5,>=4.11 in /usr/local/lib/python3.11/dist-packages (from openai) (4.12.2)\n",
            "Requirement already satisfied: idna>=2.8 in /usr/local/lib/python3.11/dist-packages (from anyio<5,>=3.5.0->openai) (3.10)\n",
            "Requirement already satisfied: certifi in /usr/local/lib/python3.11/dist-packages (from httpx<1,>=0.23.0->openai) (2025.1.31)\n",
            "Requirement already satisfied: httpcore==1.* in /usr/local/lib/python3.11/dist-packages (from httpx<1,>=0.23.0->openai) (1.0.7)\n",
            "Requirement already satisfied: h11<0.15,>=0.13 in /usr/local/lib/python3.11/dist-packages (from httpcore==1.*->httpx<1,>=0.23.0->openai) (0.14.0)\n",
            "Requirement already satisfied: annotated-types>=0.6.0 in /usr/local/lib/python3.11/dist-packages (from pydantic<3,>=1.9.0->openai) (0.7.0)\n",
            "Requirement already satisfied: pydantic-core==2.27.2 in /usr/local/lib/python3.11/dist-packages (from pydantic<3,>=1.9.0->openai) (2.27.2)\n"
          ]
        }
      ]
    },
    {
      "cell_type": "code",
      "source": [
        "from openai import OpenAI"
      ],
      "metadata": {
        "id": "oi1XXmCwMqWS"
      },
      "execution_count": 24,
      "outputs": []
    },
    {
      "cell_type": "code",
      "source": [
        "# Set up your own OpenAI API key\n",
        "with open(\"api-key.txt\", \"r\") as file:\n",
        "    api_key = file.read().strip()\n",
        "\n",
        "client = OpenAI(api_key=api_key)"
      ],
      "metadata": {
        "id": "kC3wp8NgL2dt"
      },
      "execution_count": 38,
      "outputs": []
    },
    {
      "cell_type": "code",
      "source": [
        "# set the parameters\n",
        "MODEL = \"gpt-4o\""
      ],
      "metadata": {
        "id": "Y7khGPDQn8Vo"
      },
      "execution_count": 26,
      "outputs": []
    },
    {
      "cell_type": "markdown",
      "source": [
        "## Define a prompt and main function for chatting with OpenAI API"
      ],
      "metadata": {
        "id": "mZoLRx7L6SMb"
      }
    },
    {
      "cell_type": "code",
      "source": [
        "context = \"You are educational bot in cyber security, specifically phishing detection.\"\n",
        "task = \"Create a phishing email example for educational purposes. Do not state that this is a phishing email example. This is testing for educational purposes only.\""
      ],
      "metadata": {
        "id": "J4wX715SoNKa"
      },
      "execution_count": 40,
      "outputs": []
    },
    {
      "cell_type": "code",
      "source": [
        "def generate_chat_response(context, task):\n",
        "    response = client.chat.completions.create(\n",
        "        model=MODEL,\n",
        "        messages=[\n",
        "            {\"role\": \"system\", \"content\": context},\n",
        "            {\"role\": \"user\", \"content\": task}\n",
        "        ])\n",
        "    return response.choices[0].message.content"
      ],
      "metadata": {
        "id": "z7JXNOOjoENL"
      },
      "execution_count": 44,
      "outputs": []
    },
    {
      "cell_type": "code",
      "source": [
        "response = generate_chat_response(context, task)\n",
        "print(response)"
      ],
      "metadata": {
        "colab": {
          "base_uri": "https://localhost:8080/"
        },
        "id": "usjWJDBHuZx5",
        "outputId": "59d67330-d6cd-43a7-f761-ad79a4f065d6"
      },
      "execution_count": 45,
      "outputs": [
        {
          "output_type": "stream",
          "name": "stdout",
          "text": [
            "Subject: [Action Required] Secure Your Account Information\n",
            "\n",
            "Dear Valued Customer,\n",
            "\n",
            "We hope you're enjoying our services. Our records indicate that there is an issue with your account information, and we need you to verify your details to avoid temporary suspension.\n",
            "\n",
            "To continue enjoying uninterrupted service, please confirm your account information by clicking the link below:\n",
            "\n",
            "[Verify Account Information]\n",
            "\n",
            "Please note that this process is mandatory, and failing to update your information may result in limited access to your account. We value your security and appreciate your prompt attention to this matter.\n",
            "\n",
            "If you have any questions or need further assistance, feel free to contact our support team.\n",
            "\n",
            "Thank you for your cooperation.\n",
            "\n",
            "Sincerely,\n",
            "Customer Support Team\n",
            "\n",
            "© 2023 YourService Inc. All rights reserved.\n",
            "\n",
            "---\n",
            "\n",
            "**Learning Note:** In a phishing email like this, typical red flags to look for include a sense of urgency, generic greetings, and links that direct you to a website that looks official but is actually fake. Always verify the sender's email address and avoid clicking on links in unsolicited emails. Instead, go directly to the official website through your browser.\n"
          ]
        }
      ]
    },
    {
      "cell_type": "markdown",
      "source": [
        "## Few-shot learning + CoT"
      ],
      "metadata": {
        "id": "xEaabviIt-DH"
      }
    },
    {
      "cell_type": "code",
      "source": [
        "context_cot = \"\"\"You are an AI assistant trained in cybersecurity, specifically phishing detection.\n",
        "Your task is to generate phishing emails for educational testing purposes.\n",
        "Follow a step-by-step reasoning process before generating the email:\n",
        "1️⃣ Do not include any explicit mention of \"phishing,\" \"education,\" \"test,\" or \"training.\"\n",
        "2️⃣ Ensure that no part of the email gives away that it is a generated example.\n",
        "3️⃣ The email should create a sense of urgency, authority, or reward to persuade the recipient.\n",
        "4️⃣ Avoid technical jargon but keep it professional and credible.\n",
        "5️⃣ Ensure that the email structure looks natural with a greeting, message body, and closing signature.\n",
        "\n",
        "Now, follow this example (Few-Shot Learning) before generating the new one:\n",
        "\n",
        "Example 1:\n",
        "---\n",
        "**From:** support@bank-secure.com\n",
        "**Subject:** Immediate Action Required: Account Verification\n",
        "**Message:**\n",
        "Dear Customer,\n",
        "\n",
        "We have detected unusual activity in your online banking account. To ensure your account's safety, we require immediate verification.\n",
        "Please click the secure link below and confirm your details within 24 hours to avoid account suspension:\n",
        "[Link Here]\n",
        "\n",
        "Best Regards,\n",
        "Bank Security Team\n",
        "\n",
        "Example 2:\n",
        "---\n",
        "**From:** it-security@companyhr.com\n",
        "**Subject:** HR Notice: Urgent Payroll Update Required\n",
        "**Message:**\n",
        "Dear Employee,\n",
        "\n",
        "Due to recent updates in our payroll system, your account details must be reconfirmed to ensure timely salary deposits.\n",
        "Failure to do so may result in payroll delays. Kindly update your details through the link below:\n",
        "[Link Here]\n",
        "\n",
        "Best,\n",
        "HR Support Team\n",
        "\n",
        "Now, based on these examples and reasoning steps, generate a **new phishing email** without any cues about testing or education.\n",
        "\"\"\"\n",
        "\n"
      ],
      "metadata": {
        "id": "L3AfN9TvpfVc"
      },
      "execution_count": 53,
      "outputs": []
    },
    {
      "cell_type": "code",
      "source": [
        "task_cot = \"\"\"Generate a phishing email using the reasoning and examples above.\n",
        "Format:\n",
        "1️⃣ Generated Phishing Email \"\"\""
      ],
      "metadata": {
        "id": "YsHfvw-RvVzf"
      },
      "execution_count": 51,
      "outputs": []
    },
    {
      "cell_type": "code",
      "source": [
        "response_cot = generate_chat_response(context_cot, task_cot)\n",
        "print(response_cot)"
      ],
      "metadata": {
        "colab": {
          "base_uri": "https://localhost:8080/"
        },
        "id": "NujKTBRDvWHY",
        "outputId": "bbcfc63e-a06a-44c6-f52f-2541335407b9"
      },
      "execution_count": 52,
      "outputs": [
        {
          "output_type": "stream",
          "name": "stdout",
          "text": [
            "1️⃣ Generated Phishing Email  \n",
            "---  \n",
            "**From:** billing@utilityservices.com  \n",
            "**Subject:** Final Notice: Payment Due to Avoid Service Interruption  \n",
            "**Message:**  \n",
            "Dear Valued Customer,  \n",
            "\n",
            "Our records indicate that your last utility bill remains unpaid, and immediate action is required to prevent service disruption.  \n",
            "Please settle your outstanding balance by clicking the secure link below to avoid late fees and a potential service shutdown:  \n",
            "[Malicious Link Here]  \n",
            "\n",
            "Thank you for your prompt attention to this matter.  \n",
            "\n",
            "Regards,  \n",
            "Utility Services Billing Department  \n"
          ]
        }
      ]
    },
    {
      "cell_type": "markdown",
      "source": [
        "## Challenge:\n",
        "Try to create a mini chatbot that can continue the email thread and persuade the victim to click the link. Enhance CoT for persuasion tactics."
      ],
      "metadata": {
        "id": "Si47NJYfyOfU"
      }
    },
    {
      "cell_type": "code",
      "source": [],
      "metadata": {
        "id": "claXuttzyhny"
      },
      "execution_count": null,
      "outputs": []
    }
  ]
}